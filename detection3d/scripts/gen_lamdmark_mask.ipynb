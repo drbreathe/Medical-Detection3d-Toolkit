{
 "cells": [
  {
   "cell_type": "code",
   "execution_count": 1,
   "metadata": {},
   "outputs": [],
   "source": [
    "import pandas as pd\n",
    "import SimpleITK as sitk\n",
    "from gen_landmark_mask import gen_single_landmark_mask\n",
    "\n",
    "image_path = '../../assets/case_001.nii.gz'\n",
    "landmark_path = '../../assets/case_001.csv'\n",
    "\n",
    "image = sitk.ReadImage(image_path)\n",
    "landmark_df = pd.read_csv(landmark_path)\n",
    "\n",
    "spacing = [1.5, 1.5, 1.5]\n",
    "pos_upper_bound = 3\n",
    "neg_lower_bound = 6\n",
    "\n",
    "landmark_label = {\n",
    "    'A': 1,\n",
    "    'B': 2,\n",
    "    'C': 3,\n",
    "    'D': 4,\n",
    "    'E': 5,\n",
    "    'F': 6,\n",
    "    'G': 7,\n",
    "    'H': 8,\n",
    "}\n",
    "\n",
    "landmark_mask = gen_single_landmark_mask(image, landmark_df, landmark_label, spacing, pos_upper_bound, neg_lower_bound)\n",
    "sitk.WriteImage(landmark_mask, '../../assets/case_001_landmark_mask.nii.gz', useCompression=True)\n"
   ]
  }
 ],
 "metadata": {
  "kernelspec": {
   "display_name": "base",
   "language": "python",
   "name": "python3"
  },
  "language_info": {
   "codemirror_mode": {
    "name": "ipython",
    "version": 3
   },
   "file_extension": ".py",
   "mimetype": "text/x-python",
   "name": "python",
   "nbconvert_exporter": "python",
   "pygments_lexer": "ipython3",
   "version": "3.8.8"
  },
  "orig_nbformat": 4
 },
 "nbformat": 4,
 "nbformat_minor": 2
}
